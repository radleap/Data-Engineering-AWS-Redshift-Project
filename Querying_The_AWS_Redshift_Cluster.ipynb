{
 "cells": [
  {
   "cell_type": "markdown",
   "metadata": {},
   "source": [
    "# Connecting to the Redshift Cluster"
   ]
  },
  {
   "cell_type": "code",
   "execution_count": 1,
   "metadata": {},
   "outputs": [],
   "source": [
    "import pandas as pd\n",
    "import boto3\n",
    "import json\n",
    "import configparser\n",
    "import psycopg2\n",
    "\n",
    "%load_ext sql"
   ]
  },
  {
   "cell_type": "code",
   "execution_count": 2,
   "metadata": {},
   "outputs": [
    {
     "data": {
      "text/plain": [
       "['dwh.cfg']"
      ]
     },
     "execution_count": 2,
     "metadata": {},
     "output_type": "execute_result"
    }
   ],
   "source": [
    "config = configparser.ConfigParser()\n",
    "config.read('dwh.cfg')"
   ]
  },
  {
   "cell_type": "markdown",
   "metadata": {},
   "source": [
    "# Setting up the connection and cursor"
   ]
  },
  {
   "cell_type": "code",
   "execution_count": 3,
   "metadata": {},
   "outputs": [],
   "source": [
    "conn = psycopg2.connect(\"host={} dbname={} user={} password={} port={}\".format(*config['CLUSTER'].values()))\n",
    "cur = conn.cursor()\n",
    "# print(conn_string)\n",
    "# %sql $conn_string"
   ]
  },
  {
   "cell_type": "markdown",
   "metadata": {},
   "source": [
    "# Sample SQL Queries"
   ]
  },
  {
   "cell_type": "markdown",
   "metadata": {},
   "source": [
    "### Extracing from the Time Table"
   ]
  },
  {
   "cell_type": "code",
   "execution_count": 4,
   "metadata": {},
   "outputs": [
    {
     "data": {
      "text/html": [
       "<div>\n",
       "<style scoped>\n",
       "    .dataframe tbody tr th:only-of-type {\n",
       "        vertical-align: middle;\n",
       "    }\n",
       "\n",
       "    .dataframe tbody tr th {\n",
       "        vertical-align: top;\n",
       "    }\n",
       "\n",
       "    .dataframe thead th {\n",
       "        text-align: right;\n",
       "    }\n",
       "</style>\n",
       "<table border=\"1\" class=\"dataframe\">\n",
       "  <thead>\n",
       "    <tr style=\"text-align: right;\">\n",
       "      <th></th>\n",
       "      <th>start_time</th>\n",
       "      <th>hour</th>\n",
       "      <th>day</th>\n",
       "      <th>week</th>\n",
       "      <th>month</th>\n",
       "      <th>year</th>\n",
       "      <th>weekday</th>\n",
       "    </tr>\n",
       "  </thead>\n",
       "  <tbody>\n",
       "    <tr>\n",
       "      <th>0</th>\n",
       "      <td>1541105830</td>\n",
       "      <td>20</td>\n",
       "      <td>1</td>\n",
       "      <td>44</td>\n",
       "      <td>11</td>\n",
       "      <td>2018</td>\n",
       "      <td>4</td>\n",
       "    </tr>\n",
       "    <tr>\n",
       "      <th>1</th>\n",
       "      <td>1541109325</td>\n",
       "      <td>21</td>\n",
       "      <td>1</td>\n",
       "      <td>44</td>\n",
       "      <td>11</td>\n",
       "      <td>2018</td>\n",
       "      <td>4</td>\n",
       "    </tr>\n",
       "    <tr>\n",
       "      <th>2</th>\n",
       "      <td>1541129561</td>\n",
       "      <td>3</td>\n",
       "      <td>2</td>\n",
       "      <td>44</td>\n",
       "      <td>11</td>\n",
       "      <td>2018</td>\n",
       "      <td>5</td>\n",
       "    </tr>\n",
       "    <tr>\n",
       "      <th>3</th>\n",
       "      <td>1541150563</td>\n",
       "      <td>9</td>\n",
       "      <td>2</td>\n",
       "      <td>44</td>\n",
       "      <td>11</td>\n",
       "      <td>2018</td>\n",
       "      <td>5</td>\n",
       "    </tr>\n",
       "    <tr>\n",
       "      <th>4</th>\n",
       "      <td>1541153484</td>\n",
       "      <td>10</td>\n",
       "      <td>2</td>\n",
       "      <td>44</td>\n",
       "      <td>11</td>\n",
       "      <td>2018</td>\n",
       "      <td>5</td>\n",
       "    </tr>\n",
       "  </tbody>\n",
       "</table>\n",
       "</div>"
      ],
      "text/plain": [
       "   start_time hour day week month  year weekday\n",
       "0  1541105830   20   1   44    11  2018       4\n",
       "1  1541109325   21   1   44    11  2018       4\n",
       "2  1541129561    3   2   44    11  2018       5\n",
       "3  1541150563    9   2   44    11  2018       5\n",
       "4  1541153484   10   2   44    11  2018       5"
      ]
     },
     "execution_count": 4,
     "metadata": {},
     "output_type": "execute_result"
    }
   ],
   "source": [
    "cur.execute(\"\"\"SELECT * FROM time LIMIT 5;\"\"\")\n",
    "df = pd.DataFrame(cur.fetchall())\n",
    "\n",
    "df.columns = [cur.description[i][0]for i in range(df.shape[1])]\n",
    "df.head()"
   ]
  },
  {
   "cell_type": "markdown",
   "metadata": {},
   "source": [
    "### Extracing from the Songplays Table"
   ]
  },
  {
   "cell_type": "code",
   "execution_count": 5,
   "metadata": {},
   "outputs": [
    {
     "data": {
      "text/html": [
       "<div>\n",
       "<style scoped>\n",
       "    .dataframe tbody tr th:only-of-type {\n",
       "        vertical-align: middle;\n",
       "    }\n",
       "\n",
       "    .dataframe tbody tr th {\n",
       "        vertical-align: top;\n",
       "    }\n",
       "\n",
       "    .dataframe thead th {\n",
       "        text-align: right;\n",
       "    }\n",
       "</style>\n",
       "<table border=\"1\" class=\"dataframe\">\n",
       "  <thead>\n",
       "    <tr style=\"text-align: right;\">\n",
       "      <th></th>\n",
       "      <th>songplay_id</th>\n",
       "      <th>timestamp</th>\n",
       "      <th>user_id</th>\n",
       "      <th>level</th>\n",
       "      <th>session_id</th>\n",
       "      <th>location</th>\n",
       "      <th>user_agent</th>\n",
       "      <th>song_id</th>\n",
       "      <th>artist_id</th>\n",
       "    </tr>\n",
       "  </thead>\n",
       "  <tbody>\n",
       "    <tr>\n",
       "      <th>0</th>\n",
       "      <td>0</td>\n",
       "      <td>1541107053</td>\n",
       "      <td>8</td>\n",
       "      <td>free</td>\n",
       "      <td>139</td>\n",
       "      <td>Phoenix-Mesa-Scottsdale, AZ</td>\n",
       "      <td>\"Mozilla/5.0 (Windows NT 6.1; WOW64) AppleWebK...</td>\n",
       "      <td>SOMPGOD12A8C13F706</td>\n",
       "      <td>ARY7DQ91187B98C85E</td>\n",
       "    </tr>\n",
       "    <tr>\n",
       "      <th>1</th>\n",
       "      <td>15</td>\n",
       "      <td>1541107734</td>\n",
       "      <td>8</td>\n",
       "      <td>free</td>\n",
       "      <td>139</td>\n",
       "      <td>Phoenix-Mesa-Scottsdale, AZ</td>\n",
       "      <td>\"Mozilla/5.0 (Windows NT 6.1; WOW64) AppleWebK...</td>\n",
       "      <td>SOZWNXJ12AC960A3AC</td>\n",
       "      <td>ARH39ZK1187B9ABC22</td>\n",
       "    </tr>\n",
       "    <tr>\n",
       "      <th>2</th>\n",
       "      <td>22</td>\n",
       "      <td>1543026602</td>\n",
       "      <td>87</td>\n",
       "      <td>free</td>\n",
       "      <td>86</td>\n",
       "      <td>Myrtle Beach-Conway-North Myrtle Beach, SC-NC</td>\n",
       "      <td>Mozilla/5.0 (Windows NT 6.3; WOW64; Trident/7....</td>\n",
       "      <td>SOQSNYP12A8AE47348</td>\n",
       "      <td>ARKR75V1187FB3D4D5</td>\n",
       "    </tr>\n",
       "    <tr>\n",
       "      <th>3</th>\n",
       "      <td>29</td>\n",
       "      <td>1541516676</td>\n",
       "      <td>34</td>\n",
       "      <td>free</td>\n",
       "      <td>33</td>\n",
       "      <td>Milwaukee-Waukesha-West Allis, WI</td>\n",
       "      <td>Mozilla/5.0 (Macintosh; Intel Mac OS X 10.9; r...</td>\n",
       "      <td>SOEYAIN12A81C224CB</td>\n",
       "      <td>ARNBMT71187B993523</td>\n",
       "    </tr>\n",
       "    <tr>\n",
       "      <th>4</th>\n",
       "      <td>36</td>\n",
       "      <td>1541106673</td>\n",
       "      <td>8</td>\n",
       "      <td>free</td>\n",
       "      <td>139</td>\n",
       "      <td>Phoenix-Mesa-Scottsdale, AZ</td>\n",
       "      <td>\"Mozilla/5.0 (Windows NT 6.1; WOW64) AppleWebK...</td>\n",
       "      <td>SOQVXCF12AF72A419B</td>\n",
       "      <td>ARHUC691187B9AD27F</td>\n",
       "    </tr>\n",
       "  </tbody>\n",
       "</table>\n",
       "</div>"
      ],
      "text/plain": [
       "   songplay_id   timestamp user_id level  session_id  \\\n",
       "0            0  1541107053       8  free         139   \n",
       "1           15  1541107734       8  free         139   \n",
       "2           22  1543026602      87  free          86   \n",
       "3           29  1541516676      34  free          33   \n",
       "4           36  1541106673       8  free         139   \n",
       "\n",
       "                                        location  \\\n",
       "0                    Phoenix-Mesa-Scottsdale, AZ   \n",
       "1                    Phoenix-Mesa-Scottsdale, AZ   \n",
       "2  Myrtle Beach-Conway-North Myrtle Beach, SC-NC   \n",
       "3              Milwaukee-Waukesha-West Allis, WI   \n",
       "4                    Phoenix-Mesa-Scottsdale, AZ   \n",
       "\n",
       "                                          user_agent             song_id  \\\n",
       "0  \"Mozilla/5.0 (Windows NT 6.1; WOW64) AppleWebK...  SOMPGOD12A8C13F706   \n",
       "1  \"Mozilla/5.0 (Windows NT 6.1; WOW64) AppleWebK...  SOZWNXJ12AC960A3AC   \n",
       "2  Mozilla/5.0 (Windows NT 6.3; WOW64; Trident/7....  SOQSNYP12A8AE47348   \n",
       "3  Mozilla/5.0 (Macintosh; Intel Mac OS X 10.9; r...  SOEYAIN12A81C224CB   \n",
       "4  \"Mozilla/5.0 (Windows NT 6.1; WOW64) AppleWebK...  SOQVXCF12AF72A419B   \n",
       "\n",
       "            artist_id  \n",
       "0  ARY7DQ91187B98C85E  \n",
       "1  ARH39ZK1187B9ABC22  \n",
       "2  ARKR75V1187FB3D4D5  \n",
       "3  ARNBMT71187B993523  \n",
       "4  ARHUC691187B9AD27F  "
      ]
     },
     "execution_count": 5,
     "metadata": {},
     "output_type": "execute_result"
    }
   ],
   "source": [
    "rows = 5\n",
    "\n",
    "#getting the data\n",
    "cur.execute(\"\"\"SELECT * FROM songplays LIMIT {};\"\"\".format(rows))\n",
    "df = pd.DataFrame(cur.fetchall())\n",
    "\n",
    "#getting column headers\n",
    "df.columns = [cur.description[i][0]for i in range(df.shape[1])]\n",
    "df.head()"
   ]
  },
  {
   "cell_type": "code",
   "execution_count": null,
   "metadata": {},
   "outputs": [],
   "source": []
  }
 ],
 "metadata": {
  "kernelspec": {
   "display_name": "Python 3",
   "language": "python",
   "name": "python3"
  },
  "language_info": {
   "codemirror_mode": {
    "name": "ipython",
    "version": 3
   },
   "file_extension": ".py",
   "mimetype": "text/x-python",
   "name": "python",
   "nbconvert_exporter": "python",
   "pygments_lexer": "ipython3",
   "version": "3.7.3"
  }
 },
 "nbformat": 4,
 "nbformat_minor": 2
}
